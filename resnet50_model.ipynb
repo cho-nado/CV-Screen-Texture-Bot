{
 "cells": [
  {
   "cell_type": "code",
   "execution_count": 1,
   "id": "153e7543-536c-4385-a217-723b1b0b4421",
   "metadata": {},
   "outputs": [
    {
     "name": "stderr",
     "output_type": "stream",
     "text": [
      "/Users/iliastulov/miniconda3/lib/python3.12/site-packages/torchvision/models/_utils.py:208: UserWarning: The parameter 'pretrained' is deprecated since 0.13 and may be removed in the future, please use 'weights' instead.\n",
      "  warnings.warn(\n",
      "/Users/iliastulov/miniconda3/lib/python3.12/site-packages/torchvision/models/_utils.py:223: UserWarning: Arguments other than a weight enum or `None` for 'weights' are deprecated since 0.13 and may be removed in the future. The current behavior is equivalent to passing `weights=ResNet50_Weights.IMAGENET1K_V1`. You can also use `weights=ResNet50_Weights.DEFAULT` to get the most up-to-date weights.\n",
      "  warnings.warn(msg)\n",
      "/var/folders/b6/kcqg7wpx5_q3ngxl5ff5t3mr0000gn/T/ipykernel_8559/256009064.py:35: FutureWarning: You are using `torch.load` with `weights_only=False` (the current default value), which uses the default pickle module implicitly. It is possible to construct malicious pickle data which will execute arbitrary code during unpickling (See https://github.com/pytorch/pytorch/blob/main/SECURITY.md#untrusted-models for more details). In a future release, the default value for `weights_only` will be flipped to `True`. This limits the functions that could be executed during unpickling. Arbitrary objects will no longer be allowed to be loaded via this mode unless they are explicitly allowlisted by the user via `torch.serialization.add_safe_globals`. We recommend you start setting `weights_only=True` for any use case where you don't have full control of the loaded file. Please open an issue on GitHub for any issues related to this experimental feature.\n",
      "  model.load_state_dict(torch.load(\"resnet50_dtd_split1.pth\", map_location=device))\n"
     ]
    },
    {
     "ename": "FileNotFoundError",
     "evalue": "[Errno 2] No such file or directory: '/Users/iliastulov/Desktop/Ilia/MAI/Master_Programming/CV_2_git/glass.jpeg'",
     "output_type": "error",
     "traceback": [
      "\u001b[0;31m---------------------------------------------------------------------------\u001b[0m",
      "\u001b[0;31mFileNotFoundError\u001b[0m                         Traceback (most recent call last)",
      "Cell \u001b[0;32mIn[1], line 49\u001b[0m\n\u001b[1;32m     47\u001b[0m \u001b[38;5;66;03m# Load and prepare the image\u001b[39;00m\n\u001b[1;32m     48\u001b[0m image_path \u001b[38;5;241m=\u001b[39m \u001b[38;5;124m\"\u001b[39m\u001b[38;5;124mglass.jpeg\u001b[39m\u001b[38;5;124m\"\u001b[39m  \n\u001b[0;32m---> 49\u001b[0m image \u001b[38;5;241m=\u001b[39m \u001b[43mImage\u001b[49m\u001b[38;5;241;43m.\u001b[39;49m\u001b[43mopen\u001b[49m\u001b[43m(\u001b[49m\u001b[43mimage_path\u001b[49m\u001b[43m)\u001b[49m\u001b[38;5;241m.\u001b[39mconvert(\u001b[38;5;124m\"\u001b[39m\u001b[38;5;124mRGB\u001b[39m\u001b[38;5;124m\"\u001b[39m)\n\u001b[1;32m     51\u001b[0m input_tensor \u001b[38;5;241m=\u001b[39m preprocess(image)\u001b[38;5;241m.\u001b[39munsqueeze(\u001b[38;5;241m0\u001b[39m)  \n\u001b[1;32m     52\u001b[0m input_tensor \u001b[38;5;241m=\u001b[39m input_tensor\u001b[38;5;241m.\u001b[39mto(device)\n",
      "File \u001b[0;32m~/miniconda3/lib/python3.12/site-packages/PIL/Image.py:3277\u001b[0m, in \u001b[0;36mopen\u001b[0;34m(fp, mode, formats)\u001b[0m\n\u001b[1;32m   3274\u001b[0m     filename \u001b[38;5;241m=\u001b[39m os\u001b[38;5;241m.\u001b[39mpath\u001b[38;5;241m.\u001b[39mrealpath(os\u001b[38;5;241m.\u001b[39mfspath(fp))\n\u001b[1;32m   3276\u001b[0m \u001b[38;5;28;01mif\u001b[39;00m filename:\n\u001b[0;32m-> 3277\u001b[0m     fp \u001b[38;5;241m=\u001b[39m \u001b[43mbuiltins\u001b[49m\u001b[38;5;241;43m.\u001b[39;49m\u001b[43mopen\u001b[49m\u001b[43m(\u001b[49m\u001b[43mfilename\u001b[49m\u001b[43m,\u001b[49m\u001b[43m \u001b[49m\u001b[38;5;124;43m\"\u001b[39;49m\u001b[38;5;124;43mrb\u001b[39;49m\u001b[38;5;124;43m\"\u001b[39;49m\u001b[43m)\u001b[49m\n\u001b[1;32m   3278\u001b[0m     exclusive_fp \u001b[38;5;241m=\u001b[39m \u001b[38;5;28;01mTrue\u001b[39;00m\n\u001b[1;32m   3280\u001b[0m \u001b[38;5;28;01mtry\u001b[39;00m:\n",
      "\u001b[0;31mFileNotFoundError\u001b[0m: [Errno 2] No such file or directory: '/Users/iliastulov/Desktop/Ilia/MAI/Master_Programming/CV_2_git/glass.jpeg'"
     ]
    }
   ],
   "source": [
    "import torch\n",
    "import torch.nn as nn\n",
    "import torch.nn.functional as F\n",
    "from torchvision import models, transforms\n",
    "from PIL import Image\n",
    "\n",
    "# Device (CPU/GPU/MPS)\n",
    "device = torch.device(\"cuda\" if torch.cuda.is_available() else \"cpu\")\n",
    "\n",
    "# Alphabetical list of 47 classes, as in dtd/images/\n",
    "# Ensure this order matches the one used during training!\n",
    "classes = [\n",
    "    \"banded\", \"blotchy\", \"braided\", \"bubbly\", \"bumpy\", \n",
    "    \"chequered\", \"cobwebbed\", \"cracked\", \"crosshatched\", \"crystalline\",\n",
    "    \"dotted\", \"fibrous\", \"flecked\", \"freckled\", \"frilly\", \n",
    "    \"gauzy\", \"grid\", \"grooved\", \"honeycombed\", \"interlaced\",\n",
    "    \"knitted\", \"lacelike\", \"lined\", \"marbled\", \"matted\", \n",
    "    \"meshed\", \"paisley\", \"perforated\", \"pitted\", \"pleated\",\n",
    "    \"polka-dotted\", \"porous\", \"potholed\", \"scaly\", \"smeared\",\n",
    "    \"spiralled\", \"sprinkled\", \"stained\", \"stratified\", \"striped\",\n",
    "    \"studded\", \"swirly\", \"veined\", \"waffled\", \"woven\",\n",
    "    \"wrinkled\", \"zigzagged\"\n",
    "]\n",
    "num_classes = len(classes)  # 47\n",
    "\n",
    "# Load pre-trained ResNet50\n",
    "model = models.resnet50(pretrained=True)\n",
    "\n",
    "# Modify the last layer for 47 classes (DTD)\n",
    "in_features = model.fc.in_features\n",
    "model.fc = nn.Linear(in_features, num_classes)\n",
    "\n",
    "# Load trained weights\n",
    "# Assuming you saved them from the training script:\n",
    "model.load_state_dict(torch.load(\"resnet50_dtd_split1.pth\", map_location=device))\n",
    "model.to(device)\n",
    "model.eval()\n",
    "\n",
    "# Transformations (as during training)\n",
    "preprocess = transforms.Compose([\n",
    "    transforms.Resize((224, 224)),\n",
    "    transforms.ToTensor(),\n",
    "    transforms.Normalize(mean=[0.485, 0.456, 0.406],\n",
    "                         std =[0.229, 0.224, 0.225]),\n",
    "])\n",
    "\n",
    "# Load and prepare the image\n",
    "image_path = \"EXAMPLE.jpeg\"  \n",
    "image = Image.open(image_path).convert(\"RGB\")\n",
    "\n",
    "input_tensor = preprocess(image).unsqueeze(0)  \n",
    "input_tensor = input_tensor.to(device)\n",
    "\n",
    "# Pass through the network\n",
    "with torch.no_grad():\n",
    "    logits = model(input_tensor)            \n",
    "    probs = F.softmax(logits, dim=1)      \n",
    "\n",
    "# Get class index and name\n",
    "pred_idx = torch.argmax(probs, dim=1).item()\n",
    "predicted_class = classes[pred_idx]\n",
    "confidence = probs[0, pred_idx].item()  # probability of the top class\n",
    "\n",
    "print(f\"Predicted class: {predicted_class} (confidence ~ {confidence:.2f})\")\n"
   ]
  },
  {
   "cell_type": "code",
   "execution_count": null,
   "id": "49f75d50-70c6-4ecf-9d15-78ae8b580754",
   "metadata": {},
   "outputs": [],
   "source": []
  },
  {
   "cell_type": "code",
   "execution_count": null,
   "id": "61c0d28c-365b-45cf-9a5c-d0e77fd639f5",
   "metadata": {},
   "outputs": [],
   "source": []
  }
 ],
 "metadata": {
  "kernelspec": {
   "display_name": "Python 3 (ipykernel)",
   "language": "python",
   "name": "python3"
  },
  "language_info": {
   "codemirror_mode": {
    "name": "ipython",
    "version": 3
   },
   "file_extension": ".py",
   "mimetype": "text/x-python",
   "name": "python",
   "nbconvert_exporter": "python",
   "pygments_lexer": "ipython3",
   "version": "3.12.1"
  }
 },
 "nbformat": 4,
 "nbformat_minor": 5
}
