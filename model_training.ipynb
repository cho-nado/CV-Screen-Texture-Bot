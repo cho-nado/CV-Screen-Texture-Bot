{
 "cells": [
  {
   "cell_type": "code",
   "execution_count": 1,
   "id": "5645be83-e38e-4c5f-a507-e62acd796282",
   "metadata": {},
   "outputs": [],
   "source": [
    "import os\n",
    "from PIL import Image\n",
    "from torch.utils.data import Dataset\n",
    "\n",
    "class DTDTextureDataset(Dataset):\n",
    "    def __init__(self, txt_file, root_dir, transform=None):\n",
    "        \"\"\"\n",
    "        txt_file: path to train1.txt, val1.txt, or test1.txt\n",
    "        root_dir: path to the 'images' folder (where 47 subfolders are located)\n",
    "        transform: any transformations (augmentations, normalization, etc.)\n",
    "        \"\"\"\n",
    "        self.transform = transform\n",
    "        self.root_dir = root_dir\n",
    "\n",
    "        # Read the list of file names (banded/banded_0001.jpg, ...)\n",
    "        with open(txt_file, 'r') as f:\n",
    "            lines = f.read().splitlines()\n",
    "\n",
    "        # Example line: \"banded/banded_0001.jpg\"\n",
    "        # The class is derived as the part of the path up to the first slash.\n",
    "        self.samples = []\n",
    "        self.classes_set = set()\n",
    "        for line in lines:\n",
    "            category = line.split('/')[0]  # \"banded\"\n",
    "            self.samples.append((line, category))\n",
    "            self.classes_set.add(category)\n",
    "\n",
    "        # As a result, self.samples will contain [(rel_path, class_name), ...]\n",
    "\n",
    "        # Create a list of all categories (47 items) in **sorted** order\n",
    "        self.classes_list = sorted(list(self.classes_set))\n",
    "        # Dictionary {class: index}, to return numbers (0..46)\n",
    "        self.class_to_idx = {cat: i for i, cat in enumerate(self.classes_list)}\n",
    "\n",
    "    def __len__(self):\n",
    "        return len(self.samples)\n",
    "\n",
    "    def __getitem__(self, index):\n",
    "        rel_path, category = self.samples[index]\n",
    "        img_path = os.path.join(self.root_dir, rel_path)  \n",
    "        # Example: \"dtd/images/banded/banded_0001.jpg\"\n",
    "\n",
    "        image = Image.open(img_path).convert(\"RGB\")\n",
    "        label = self.class_to_idx[category]\n",
    "\n",
    "        if self.transform:\n",
    "            image = self.transform(image)\n",
    "\n",
    "        return image, label\n"
   ]
  },
  {
   "cell_type": "code",
   "execution_count": 2,
   "id": "2122ec06-0821-4c7d-8d80-ed7d40d5455f",
   "metadata": {},
   "outputs": [],
   "source": [
    "from torchvision import transforms\n",
    "\n",
    "IMG_SIZE = 224\n",
    "\n",
    "train_transforms = transforms.Compose([\n",
    "    transforms.Resize((IMG_SIZE, IMG_SIZE)),\n",
    "    transforms.RandomHorizontalFlip(0.5),\n",
    "    transforms.RandomRotation(15),\n",
    "    transforms.ToTensor(),\n",
    "    transforms.Normalize(mean=[0.485, 0.456, 0.406],\n",
    "                         std =[0.229, 0.224, 0.225])\n",
    "])\n",
    "\n",
    "val_transforms = transforms.Compose([\n",
    "    transforms.Resize((IMG_SIZE, IMG_SIZE)),\n",
    "    transforms.ToTensor(),\n",
    "    transforms.Normalize(mean=[0.485, 0.456, 0.406],\n",
    "                         std =[0.229, 0.224, 0.225])\n",
    "])\n"
   ]
  },
  {
   "cell_type": "code",
   "execution_count": 7,
   "id": "8d77fc68-6c5e-4c75-a580-eaa233850171",
   "metadata": {},
   "outputs": [
    {
     "name": "stdout",
     "output_type": "stream",
     "text": [
      "Классы: ['banded', 'blotchy', 'braided', 'bubbly', 'bumpy', 'chequered', 'cobwebbed', 'cracked', 'crosshatched', 'crystalline', 'dotted', 'fibrous', 'flecked', 'freckled', 'frilly', 'gauzy', 'grid', 'grooved', 'honeycombed', 'interlaced', 'knitted', 'lacelike', 'lined', 'marbled', 'matted', 'meshed', 'paisley', 'perforated', 'pitted', 'pleated', 'polka-dotted', 'porous', 'potholed', 'scaly', 'smeared', 'spiralled', 'sprinkled', 'stained', 'stratified', 'striped', 'studded', 'swirly', 'veined', 'waffled', 'woven', 'wrinkled', 'zigzagged']\n"
     ]
    }
   ],
   "source": [
    "from torch.utils.data import DataLoader\n",
    "\n",
    "train_file = \"dtd/labels/train1.txt\"\n",
    "val_file   = \"dtd/labels/val1.txt\"\n",
    "root_dir   = \"dtd/images\"\n",
    "\n",
    "train_dataset = DTDTextureDataset(train_file, root_dir, transform=train_transforms)\n",
    "val_dataset   = DTDTextureDataset(val_file,   root_dir, transform=val_transforms)\n",
    "\n",
    "train_loader = DataLoader(train_dataset, batch_size=32, shuffle=True,  num_workers=0)\n",
    "val_loader   = DataLoader(val_dataset,   batch_size=32, shuffle=False, num_workers=0)\n",
    "\n",
    "# quantity of the classes:\n",
    "num_classes = len(train_dataset.classes_list)  # 47\n",
    "print(\"Классы:\", train_dataset.classes_list)\n"
   ]
  },
  {
   "cell_type": "code",
   "execution_count": 8,
   "id": "9ed7a358-980f-4910-aa3a-9c281c30caba",
   "metadata": {},
   "outputs": [],
   "source": [
    "import torch\n",
    "import torch.nn as nn\n",
    "from torchvision import models\n",
    "\n",
    "device = torch.device(\"cuda\" if torch.cuda.is_available() else \"cpu\")\n",
    "\n",
    "# Load pre-trained ResNet50 on ImageNet\n",
    "model = models.resnet50(pretrained=True)\n",
    "\n",
    "# Freeze layers (optional — if we want to train only the last layer)\n",
    "for param in model.parameters():\n",
    "    param.requires_grad = False\n",
    "\n",
    "# Replace the output layer with 47 classes\n",
    "in_features = model.fc.in_features\n",
    "model.fc = nn.Linear(in_features, num_classes)  # num_classes = 47\n",
    "\n",
    "model = model.to(device)\n"
   ]
  },
  {
   "cell_type": "code",
   "execution_count": 9,
   "id": "c0bb92c4-b777-4a6a-944e-1868edc3bb73",
   "metadata": {},
   "outputs": [],
   "source": [
    "import torch.optim as optim\n",
    "\n",
    "criterion = nn.CrossEntropyLoss()\n",
    "optimizer = optim.Adam(model.fc.parameters(), lr=1e-3)\n"
   ]
  },
  {
   "cell_type": "code",
   "execution_count": 10,
   "id": "938408db-4055-4548-ad74-3ceaec85c8d7",
   "metadata": {},
   "outputs": [
    {
     "name": "stdout",
     "output_type": "stream",
     "text": [
      "Epoch [1/5]: Train Loss: 3.0577, Train Acc: 0.2585 | Val Loss: 2.1397, Val Acc: 0.4766\n",
      "Epoch [2/5]: Train Loss: 1.7805, Train Acc: 0.5452 | Val Loss: 1.7153, Val Acc: 0.5218\n",
      "Epoch [3/5]: Train Loss: 1.4065, Train Acc: 0.6234 | Val Loss: 1.6312, Val Acc: 0.5479\n",
      "Epoch [4/5]: Train Loss: 1.2187, Train Acc: 0.6548 | Val Loss: 1.5778, Val Acc: 0.5723\n",
      "Epoch [5/5]: Train Loss: 1.0571, Train Acc: 0.7048 | Val Loss: 1.4628, Val Acc: 0.5995\n"
     ]
    }
   ],
   "source": [
    "def train_one_epoch(model, loader, criterion, optimizer, device):\n",
    "    model.train()\n",
    "    running_loss = 0.0\n",
    "    correct = 0\n",
    "    total = 0\n",
    "\n",
    "    for images, labels in loader:\n",
    "        images, labels = images.to(device), labels.to(device)\n",
    "\n",
    "        optimizer.zero_grad()\n",
    "        outputs = model(images)\n",
    "        loss = criterion(outputs, labels)\n",
    "        loss.backward()\n",
    "        optimizer.step()\n",
    "\n",
    "        running_loss += loss.item() * images.size(0)\n",
    "        _, preds = outputs.max(1)\n",
    "        correct += (preds == labels).sum().item()\n",
    "        total += labels.size(0)\n",
    "\n",
    "    epoch_loss = running_loss / total\n",
    "    epoch_acc  = correct / total\n",
    "    return epoch_loss, epoch_acc\n",
    "\n",
    "def evaluate(model, loader, criterion, device):\n",
    "    model.eval()\n",
    "    running_loss = 0.0\n",
    "    correct = 0\n",
    "    total = 0\n",
    "\n",
    "    with torch.no_grad():\n",
    "        for images, labels in loader:\n",
    "            images, labels = images.to(device), labels.to(device)\n",
    "            outputs = model(images)\n",
    "            loss = criterion(outputs, labels)\n",
    "\n",
    "            running_loss += loss.item() * images.size(0)\n",
    "            _, preds = outputs.max(1)\n",
    "            correct += (preds == labels).sum().item()\n",
    "            total += labels.size(0)\n",
    "\n",
    "    epoch_loss = running_loss / total\n",
    "    epoch_acc  = correct / total\n",
    "    return epoch_loss, epoch_acc\n",
    "\n",
    "num_epochs = 5\n",
    "for epoch in range(num_epochs):\n",
    "    train_loss, train_acc = train_one_epoch(model, train_loader, criterion, optimizer, device)\n",
    "    val_loss, val_acc = evaluate(model, val_loader, criterion, device)\n",
    "\n",
    "    print(f\"Epoch [{epoch+1}/{num_epochs}]: \"\n",
    "          f\"Train Loss: {train_loss:.4f}, Train Acc: {train_acc:.4f} | \"\n",
    "          f\"Val Loss: {val_loss:.4f}, Val Acc: {val_acc:.4f}\")\n"
   ]
  },
  {
   "cell_type": "code",
   "execution_count": 11,
   "id": "cc352ef8-a3b0-4d7b-8663-8c4f5070d3d7",
   "metadata": {},
   "outputs": [],
   "source": [
    "torch.save(model.state_dict(), \"resnet50_dtd_split1.pth\")\n"
   ]
  }
 ],
 "metadata": {
  "kernelspec": {
   "display_name": "Python 3 (ipykernel)",
   "language": "python",
   "name": "python3"
  },
  "language_info": {
   "codemirror_mode": {
    "name": "ipython",
    "version": 3
   },
   "file_extension": ".py",
   "mimetype": "text/x-python",
   "name": "python",
   "nbconvert_exporter": "python",
   "pygments_lexer": "ipython3",
   "version": "3.12.1"
  }
 },
 "nbformat": 4,
 "nbformat_minor": 5
}
